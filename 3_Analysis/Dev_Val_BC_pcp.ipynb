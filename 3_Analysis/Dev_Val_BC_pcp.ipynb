{
 "cells": [
  {
   "cell_type": "markdown",
   "id": "f93cfe4f-c18a-498e-af37-68c56b5a38e2",
   "metadata": {},
   "source": [
    "# develop and verify bc procedures\n",
    "\n",
    "p3_yifan?"
   ]
  },
  {
   "cell_type": "code",
   "execution_count": 2,
   "id": "0811ddce-b5d4-4a67-87ae-ebdef8030867",
   "metadata": {},
   "outputs": [],
   "source": [
    "import time\n",
    "# from datetime import datetime\n",
    "# import glob, os\n",
    "import xarray as xr\n",
    "import dask\n",
    "import numpy as np\n",
    "from random import randrange\n",
    "import gc\n",
    "import sys\n",
    "import glob\n",
    "# sys.path.append('/glade/u/home/bkruyt/libraries')\n",
    "# sys.path.append('/glade/u/home/bkruyt/libraries/st_lines')\n",
    "# sys.path\n",
    "import quantile_mapping # from same folder."
   ]
  },
  {
   "cell_type": "markdown",
   "id": "2775801b-face-4b9c-a868-058f3c6950e7",
   "metadata": {},
   "source": [
    "### Functions"
   ]
  },
  {
   "cell_type": "code",
   "execution_count": null,
   "id": "86c47efd-6d8f-4b7d-bb16-ccae10aad3e3",
   "metadata": {},
   "outputs": [],
   "source": [
    "test=True\n",
    "def get_livneh(icar_1file):\n",
    "    \"\"\"get livneh data, cropped to the icar grid (defined by icar_1file)\"\"\"\n",
    "\n",
    "    t0 = time.time()\n",
    "    print(\"\\n- - - - - - - - - -   opening livneh files - - - - - - - - - - - - \")\n",
    "\n",
    "    ### Livneh Precipitation [mm]\n",
    "    files = glob.glob(\"/glade/campaign/ral/hap/common/Livneh_met_updated/precip/livneh_unsplit_precip.2021-05-02.19[5-9]*.nc\")\n",
    "    files.extend(glob.glob(\"/glade/campaign/ral/hap/common/Livneh_met_updated/precip/livneh_unsplit_precip.2021-05-02.20*.nc\"))\n",
    "    files.sort()\n",
    "    if test:\n",
    "        livneh = xr.open_mfdataset(files[:10])  # speed up for testing\n",
    "        print('   ! TEST : ',len(files[:10]), \" Livneh precipiation files(years)\" ) # the number of files (years)\n",
    "    else:\n",
    "        print('   ',len(files), \" Livneh precipiation files(years)\" ) # the number of files (years)\n",
    "        livneh = xr.open_mfdataset(files, parallel=True)\n",
    "\n",
    "    # # # crop livneh to ICAR bounds:\n",
    "    # buff=10.5\n",
    "    max_lat=icar_1file.lat.max().values#+buff\n",
    "    min_lat=icar_1file.lat.min().values#-buff\n",
    "    max_lon=icar_1file.lon.max().values#+buff\n",
    "    min_lon=icar_1file.lon.min().values#-buff\n",
    "\n",
    "    LatIndexer, LonIndexer = 'lat', 'lon'\n",
    "\n",
    "    livneh = livneh.sel(**{LatIndexer: slice(min_lat, max_lat ),\n",
    "                            LonIndexer: slice(min_lon, max_lon)})\n",
    "\n",
    "    # print(livneh)\n",
    "\n",
    "    livneh_pr   = livneh[\"PRCP\"]#.load()\n",
    "\n",
    "    # clean up some data; correct time dimension:\n",
    "    if 'Time' in livneh_pr.dims:\n",
    "        livneh_pr = livneh_pr.rename( {'Time':'time'})\n",
    "    if not ('time' in livneh_pr.dims):\n",
    "        print(' warning ' )\n",
    "\n",
    "    print(\"   \", time.time() - t0)\n",
    "    return livneh_pr #, livneh_tmin, livneh_tmax"
   ]
  },
  {
   "cell_type": "code",
   "execution_count": 5,
   "id": "2245488e-bcc2-4f0d-903d-b4527821f3a8",
   "metadata": {},
   "outputs": [],
   "source": [
    "noise_path  = \"/glade/derecho/scratch/bkruyt/CMIP6\"\n",
    "NOISE_u     = xr.open_dataset(f\"{noise_path}/uniform_noise_480_480.nc\" )\n",
    "noise_val   = 0.01\n",
    "\n",
    "\n",
    "def add_noise(df, noise_val=noise_val, random=True):\n",
    "    \"\"\"Add uniform noise to a 2D dataset df.\"\"\"\n",
    "\n",
    "    with dask.config.set(**{'array.slicing.split_large_chunks': True}):\n",
    "\n",
    "        u_noise = NOISE_u.uniform_noise  #.load() # 55000 x 480 x480\n",
    "\n",
    "        # Add noise to (daily) input data:\n",
    "        # to avoid taking the same noise values every time, we add a random int.\n",
    "        t = len(df.time)\n",
    "        if random:\n",
    "            r = randrange(1000)\n",
    "        else:\n",
    "            r = 0\n",
    "        noise_arr = noise_val * u_noise[r:(r+t) , :df.shape[1], :df.shape[2] ]\n",
    "        df = xr.where( df>0, df + noise_val, noise_arr.values)\n",
    "\n",
    "        return df\n"
   ]
  },
  {
   "cell_type": "markdown",
   "id": "f44fea20-3155-44f4-af7f-4862c2a14160",
   "metadata": {},
   "source": [
    "### Test"
   ]
  },
  {
   "cell_type": "code",
   "execution_count": 6,
   "id": "1be20a55-3665-4707-928e-8b37c88b84cf",
   "metadata": {},
   "outputs": [],
   "source": [
    "###########\n",
    "CMIP=\"CMIP6\"\n",
    "model=\"MIROC-ES2L\"\n",
    "scen_load =\"hist\"\n",
    "base_in  = f\"/glade/derecho/scratch/bkruyt/{CMIP}/WUS_icar_LivGrd2\"\n"
   ]
  },
  {
   "cell_type": "markdown",
   "id": "e1094bf6-4b58-4e58-adc5-bf03779cdcfb",
   "metadata": {},
   "source": [
    "#### Get input data"
   ]
  },
  {
   "cell_type": "code",
   "execution_count": 7,
   "id": "59be87a6-50d5-47ab-b1cf-63abd0a288c3",
   "metadata": {},
   "outputs": [],
   "source": [
    "start_year=1950 ; end_year=1951 ; dt=\"3hr\"\n",
    "\n",
    "files=[]\n",
    "for y in range(int(start_year), int(end_year)+1) :\n",
    "\n",
    "    if CMIP==\"CMIP6\":\n",
    "        files.extend( glob.glob(f'{base_in}/{model}_hist/{dt}/icar_*_{y}*.nc') )\n",
    "        files.extend( glob.glob(f'{base_in}/{model}_{scen_load}_2004/{dt}/icar_*_{y}*.nc') )\n",
    "        files.extend( glob.glob(f'{base_in}/{model}_{scen_load}_2049/{dt}/icar_*_{y}*.nc') )\n",
    "\n",
    "pr   =  xr.open_mfdataset( files )['precip_dt']"
   ]
  },
  {
   "cell_type": "code",
   "execution_count": null,
   "id": "3b14bc3c-a70c-4eb6-880b-d85d026f433a",
   "metadata": {},
   "outputs": [],
   "source": []
  },
  {
   "cell_type": "markdown",
   "id": "d8163e04-7dac-4e0f-8bd8-c041903b2aa8",
   "metadata": {},
   "source": [
    "#### Get ref and obs data"
   ]
  },
  {
   "cell_type": "code",
   "execution_count": 8,
   "id": "c8fc30a4-2c07-4937-8652-dd4eb6fc69ff",
   "metadata": {},
   "outputs": [
    {
     "name": "stdout",
     "output_type": "stream",
     "text": [
      "\n",
      "- - - - - - - - - -   opening livneh files - - - - - - - - - - - - \n",
      "   ! TEST :  10  Livneh precipiation files(years)\n",
      "    0.716710090637207\n"
     ]
    }
   ],
   "source": [
    "\n",
    "\n",
    "icar_1_for_grid = pr #xr.open_mfdataset( files[0] )\n",
    "livneh_pr = get_livneh(icar_1file=icar_1_for_grid.isel(time=0))\n",
    "dsObs     = livneh_pr.load()\n"
   ]
  },
  {
   "cell_type": "code",
   "execution_count": 9,
   "id": "127e1f3b-feb4-4b0f-8a65-073a641e928f",
   "metadata": {},
   "outputs": [
    {
     "name": "stdout",
     "output_type": "stream",
     "text": [
      "   making daily precip\n"
     ]
    }
   ],
   "source": [
    "tdelta_int=3\n",
    "if tdelta_int<24:\n",
    "    print(\"   making daily precip\")\n",
    "    daily = pr.resample(time='1D').sum(dim='time').load()\n",
    "else:\n",
    "    daily = pr.load()"
   ]
  },
  {
   "cell_type": "code",
   "execution_count": 20,
   "id": "6ca0ffd5-5ec9-4173-a61d-319d77949258",
   "metadata": {},
   "outputs": [],
   "source": [
    "dsRef   = daily.copy()  # for test only!\n",
    "daily_n = add_noise(daily, noise_val=noise_val, random=True)\n",
    "dsRef_n = add_noise(dsRef, noise_val=noise_val, random=True)"
   ]
  },
  {
   "cell_type": "code",
   "execution_count": 26,
   "id": "0de97d37-866f-4430-a821-9e0cd7a444eb",
   "metadata": {},
   "outputs": [],
   "source": []
  },
  {
   "cell_type": "code",
   "execution_count": 27,
   "id": "ecd9936a-be83-438c-a337-97d3fdc24263",
   "metadata": {},
   "outputs": [
    {
     "data": {
      "text/plain": [
       "((730, 50, 50), (5840, 50, 50), (3652, 50, 50))"
      ]
     },
     "execution_count": 27,
     "metadata": {},
     "output_type": "execute_result"
    }
   ],
   "source": [
    "# reduce array shape:\n",
    "a=150; b=200\n",
    "daily_n = daily_n.isel(lat=slice(a,b)).isel(lon=slice(a,b))\n",
    "dsRef_n = dsRef_n.isel(lat=slice(a,b)).isel(lon=slice(a,b))\n",
    "dsObs   = dsObs.isel(lat=slice(a,b)).isel(lon=slice(a,b))\n",
    "\n",
    "daily_n.shape, dsRef_n.shape, dsObs.shape"
   ]
  },
  {
   "cell_type": "markdown",
   "id": "9da66842-77ec-4daf-80be-5dbf2388ff0a",
   "metadata": {},
   "source": [
    "### Bias Correct"
   ]
  },
  {
   "cell_type": "code",
   "execution_count": null,
   "id": "d074cc9f-f96d-4500-97d1-0d0ba23bb22f",
   "metadata": {},
   "outputs": [],
   "source": [
    "bc_daily = quantile_mapping.quantile_mapping_by_group(\n",
    "    # def quantile_mapping_by_group(input_data, ref_data, data_to_match, (ref should exclude 5y input)\n",
    "    daily_n,  dsRef_n, dsObs, # correct to liv grid\n",
    "    grouper='time.month', detrend=False,  use_ref_data=True,# use_ref_data is not used! set ref_data=None to exclude ref data!\n",
    "    extrapolate=\"1to1\", n_endpoints=50\n",
    "    )"
   ]
  },
  {
   "cell_type": "code",
   "execution_count": null,
   "id": "42e3bf7f-faf8-42d6-b859-b0f1b42014f6",
   "metadata": {},
   "outputs": [],
   "source": [
    "bc_daily"
   ]
  },
  {
   "cell_type": "markdown",
   "id": "766d6810-3822-45aa-b46f-4ccb5f57f0d2",
   "metadata": {},
   "source": [
    "### Reapply to 3hr:"
   ]
  },
  {
   "cell_type": "code",
   "execution_count": null,
   "id": "06769441-b634-4ae9-a2fe-f0f541f3bbc3",
   "metadata": {},
   "outputs": [],
   "source": [
    "print(\"      pr.shape:\",pr.shape)\n",
    "print(\"      pr == 0 :\",np.sum(pr.values==0))\n",
    "print(\"   applying correction to \",tdelta_int,\"-hourly data\")"
   ]
  },
  {
   "cell_type": "code",
   "execution_count": null,
   "id": "a96b9197-544d-400b-8232-d565eab014a4",
   "metadata": {},
   "outputs": [],
   "source": [
    "# Calculate the correction array\n",
    "correction = bc_daily.values / daily_n.values\n",
    "# repeat for nr of timesteps per day:\n",
    "correction =  np.repeat(correction, (24 / tdelta_int), axis=0)\n",
    "\n",
    "# Create a mask for elements where daily sum is zero and bc_daily is positive\n",
    "mask = (daily == 0) & (bc_daily > 0)\n",
    "mask = np.repeat(mask, (24 / tdelta_int), axis=0)\n",
    "\n",
    "print(f\"      mask shape: {mask.shape}\")\n",
    "print(f\"      correction shape: {correction.shape} \") # \\n"
   ]
  },
  {
   "cell_type": "code",
   "execution_count": null,
   "id": "e7b1e944-c26f-407a-90ee-ca28edd8b9e8",
   "metadata": {},
   "outputs": [],
   "source": [
    "bc_tdelta =  bc_daily.interp(time=pr.time)\n",
    "print(f\"      bc_tdelta shape: {bc_tdelta.shape}\")"
   ]
  },
  {
   "cell_type": "code",
   "execution_count": null,
   "id": "49db94b2-0381-40cf-92e0-e9f1c633413a",
   "metadata": {},
   "outputs": [],
   "source": [
    "    # # Apply correction to (all) values\n",
    "    pr *= correction\n",
    "\n",
    "    for t in range( pr.shape[0]):\n",
    "        # where mask, retrun bc_tdelta (syntax: Returns elements from ‘DataArray’, where ‘cond’ is True, otherwise fill in ‘other’. )\n",
    "        # print(pr[t].shape, mask[t].shape, bc_tdelta[t].shape )\n",
    "        try:\n",
    "            pr[t] = pr[t].where(~mask[t], bc_tdelta[t])\n",
    "        except:\n",
    "            print(f\"   pr.shape: {pr.shape} \")\n",
    "            print(f\"   mask.shape: {mask.shape} \")\n",
    "            print(f\"   bc_tdelta.shape: {bc_tdelta.shape} \")"
   ]
  },
  {
   "cell_type": "code",
   "execution_count": null,
   "id": "395f4b56-1c18-4652-b662-9f96c22fc03a",
   "metadata": {},
   "outputs": [],
   "source": []
  },
  {
   "cell_type": "code",
   "execution_count": null,
   "id": "b1198c91-4cd4-459f-b534-4b5899b7e317",
   "metadata": {},
   "outputs": [],
   "source": []
  },
  {
   "cell_type": "code",
   "execution_count": null,
   "id": "ff696f61-082e-47b6-a517-5d816a92284d",
   "metadata": {},
   "outputs": [],
   "source": []
  }
 ],
 "metadata": {
  "kernelspec": {
   "display_name": "mypy39",
   "language": "python",
   "name": "mypy39"
  },
  "language_info": {
   "codemirror_mode": {
    "name": "ipython",
    "version": 3
   },
   "file_extension": ".py",
   "mimetype": "text/x-python",
   "name": "python",
   "nbconvert_exporter": "python",
   "pygments_lexer": "ipython3",
   "version": "3.9.16"
  }
 },
 "nbformat": 4,
 "nbformat_minor": 5
}
