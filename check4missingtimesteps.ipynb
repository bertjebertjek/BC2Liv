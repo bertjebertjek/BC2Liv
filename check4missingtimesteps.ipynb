{
 "cells": [
  {
   "cell_type": "markdown",
   "id": "4c1553bf-1b4c-4aff-9693-7331e9d6e221",
   "metadata": {},
   "source": [
    "# Check for missing timesteps\n"
   ]
  },
  {
   "cell_type": "code",
   "execution_count": 1,
   "id": "13a43285-766c-4b67-955e-2a250c4e31c6",
   "metadata": {},
   "outputs": [],
   "source": [
    "import xarray as xr\n",
    "import numpy as np \n",
    "import pandas as pd\n",
    "import glob, os\n",
    "import matplotlib.pyplot as plt\n",
    "import seaborn as sns\n",
    "import itertools\n",
    "import multiprocessing"
   ]
  },
  {
   "cell_type": "code",
   "execution_count": 2,
   "id": "705aaf58-8141-4fed-84bf-bac90104cd94",
   "metadata": {},
   "outputs": [],
   "source": [
    "def round_down_to_nearest_5(year):\n",
    "    return (year // 5) * 5"
   ]
  },
  {
   "cell_type": "code",
   "execution_count": 5,
   "id": "683e38c3-803c-426f-97e0-56d698bae8f1",
   "metadata": {},
   "outputs": [],
   "source": [
    "model=\"MPI-M.MPI-ESM1-2-LR\"\n",
    "# model=\"MIROC-ES2L\"\n",
    "# scen=\"ssp370\"\n",
    "# scen=\"ssp370_2049\"\n",
    "# scen=\"ssp245_2004\"\n",
    "# scen=\"ssp585_2004\"\n",
    "scen=\"ssp585_2049\"\n",
    "\n",
    "# year=2066\n",
    "# year5=round_down_to_nearest_5(year)\n",
    "\n",
    "# model=\"CanESM2\"\n",
    "# scen=\"rcp45\"\n",
    "\n",
    "# model=\"MIROC5\"\n",
    "# scen=\"historical\"\n",
    "\n",
    "# model=\"CCSM4\"\n",
    "# scen=\"rcp85\"\n",
    "\n",
    "# model=\"MRI-CGCM3\"\n",
    "# scen=\"rcp85\"\n"
   ]
  },
  {
   "cell_type": "code",
   "execution_count": 7,
   "id": "d10cf970-4667-4cd7-b067-59b954e1dc2c",
   "metadata": {},
   "outputs": [],
   "source": [
    "# files  = sorted(glob.glob( f\"/glade/derecho/scratch/bkruyt/CMIP6/WUS_icar_LivGrd3/{model}_{scen}/3hr/icar_3hr_livgrd_*\"))\n",
    "# files  = sorted(glob.glob( f\"/glade/derecho/scratch/bkruyt/CMIP6/WUS_icar_LivGrd3/{model}_{scen}/3hr/icar_3hr_livgrd_*\"))\n",
    "# files  = sorted(glob.glob( f\"/glade/campaign/ral/hap/bert/CMIP6/WUS_HUC12/bias_corrected_GMET_5yexl_detrendT_3/{model}_{scen}/bc_icar_*\"))\n",
    "files  = sorted(glob.glob( f\"/glade/campaign/ral/hap/bert/CMIP6/WUS_icar_nocp_full/{model}_{scen}*/3hr/icar_3hr_*\"))  \n",
    "\n",
    "### CMIP5\n",
    "# files  = sorted(glob.glob( f\"/glade/campaign/ral/hap/bert/CMIP5/WUS_icar_livBC4/{model}_{scen}/3hr/icar_3hr_livgrid_*\"))\n",
    "# files  = sorted(glob.glob( f\"/glade/campaign/ral/hap/bert/CMIP5/WUS_icar_nocp_full4/{model}_{scen}*/3hr/icar_3hr_*\"))  \n",
    "\n",
    "if len(files)==0 : print(\"no files found \")\n",
    "else: print(f\" {len(files)} files found\")"
   ]
  },
  {
   "cell_type": "markdown",
   "id": "22b431e2-f8a9-4045-ab22-d41300ab65f5",
   "metadata": {},
   "source": [
    "### Loop through files and check the time diff "
   ]
  },
  {
   "cell_type": "code",
   "execution_count": 9,
   "id": "dff8c2c4-69ec-4ee5-87e9-6d7ca5c5e0f0",
   "metadata": {},
   "outputs": [
    {
     "name": "stdout",
     "output_type": "stream",
     "text": [
      "MPI-M.MPI-ESM1-2-LR ssp585_2049 2065-04-30T18:00:00.000000000\n",
      "MPI-M.MPI-ESM1-2-LR ssp585_2049 2065-09-20T21:00:00.000000000\n",
      "MPI-M.MPI-ESM1-2-LR ssp585_2049 2065-09-20T21:00:00.000000000\n"
     ]
    }
   ],
   "source": [
    "\n",
    "for i in range(len(files)):\n",
    "    f = files[i:i+2]  # open 2 files so we catch missing data at the end of a month\n",
    "    # print(f)\n",
    "    ds5 = xr.open_mfdataset( f )\n",
    "\n",
    "    idx = np.where(ds5.time.diff(dim='time').values > ds5.time.diff(dim='time').min().values )\n",
    "    # print(idx[0] )\n",
    "    \n",
    "    if len(idx[0])==1:\n",
    "        print( #f.split('/')[-1], idx[0],\n",
    "              model, scen, ds5.time.values[ idx[0][0] ] \n",
    "             )\n",
    "    elif len(idx[0])>1:\n",
    "        for l in range(len(idx[0])):\n",
    "            print( \n",
    "                  model, scen, ds5.time.values[ idx[0][l] ] \n",
    "                 )\n",
    "        "
   ]
  },
  {
   "cell_type": "code",
   "execution_count": 21,
   "id": "6395dca8-9060-46cf-b89e-6868c35393a8",
   "metadata": {},
   "outputs": [],
   "source": [
    "def check_mod_scen( model, scen, path):\n",
    "    \"\"\"Check for missing timesteps\"\"\"\n",
    "    # files  = sorted(glob.glob( f\"/glade/derecho/scratch/bkruyt/CMIP6/WUS_icar_LivGrd3/{model}_{scen}/3hr/icar_3hr_livgrd_*\"))\n",
    "    # files  = sorted(glob.glob( f\"/glade/campaign/ral/hap/bert/CMIP6/WUS_HUC12/bias_corrected_GMET_5yexl_detrendT_3/{model}_{scen}/bc_icar_*\"))\n",
    "    if dt is not None:\n",
    "        files  = sorted(glob.glob( f\"{path}/{model}/{scen}/{dt}/icar_*\"))\n",
    "    else:\n",
    "        files  = sorted(glob.glob( f\"{path}/{model}/{scen}/icar_*\"))\n",
    "\n",
    "    for i in range(len(files)):\n",
    "        f = files[i:i+2]  # open 2 files so we catch missing data at the end of a month\n",
    "        \n",
    "        ds5 = xr.open_mfdataset( f )\n",
    "    \n",
    "        idx = np.where(ds5.time.diff(dim='time').values > ds5.time.diff(dim='time').min().values )\n",
    "        \n",
    "        if len(idx[0])==1:\n",
    "            print( #f.split('/')[-1], idx[0],\n",
    "                  model, scen, ds5.time.values[ idx[0][0] ] \n",
    "                 )\n",
    "        elif len(idx[0])>1:\n",
    "            for l in len(idx[0]):\n",
    "                print( \n",
    "                      model, scen, ds5.time.values[ idx[0][l] ] \n",
    "                     )\n",
    "            "
   ]
  },
  {
   "cell_type": "code",
   "execution_count": 49,
   "id": "e4b1cf85-76c8-4949-a7d6-68d29d5a9b23",
   "metadata": {},
   "outputs": [],
   "source": [
    "def check_Tmin_max( model, scen):\n",
    "\n",
    "    # files  = sorted(glob.glob( f\"/glade/derecho/scratch/bkruyt/CMIP6/WUS_icar_LivGrd3/{model}_{scen}/3hr/icar_3hr_livgrd_*\"))\n",
    "    # files  = sorted(glob.glob( f\"/glade/campaign/ral/hap/bert/CMIP6/WUS_icar_nocp_full/{model}_{scen}/daily/icar_*\"))\n",
    "    files  = sorted(glob.glob( f\"/glade/campaign/ral/hap/bert/CMIP6/WUS_HUC12/bias_corrected_GMET_5yexl_detrendT_3/{model}_{scen}/bc_icar_*\"))\n",
    "\n",
    "    for i in range(len(files)):\n",
    "        f = files[i:i+2]  # open 2 files so we catch missing data at the end of a month\n",
    "        \n",
    "        ds5 = xr.open_mfdataset( f )\n",
    "    \n",
    "        # idx = np.where(ds5.time.diff(dim='time').values > ds5.time.diff(dim='time').min().values )\n",
    "\n",
    "        cnt =  np.sum( ds5.Tmin.values > ds5.Tmax.values ) \n",
    "        print(model, scen, cnt)\n",
    "        \n",
    "        if cnt > 0: # if len(cnt[0]) > 0:\n",
    "            idx = np.where( ds5.Tmin.values > ds5.Tmax.values )\n",
    "            # print(f\" Tmin> Tmax @ {ds5.time[idx[0][0] }\")\n",
    "            \n",
    "            if len(idx[0])==1:\n",
    "                print( #f.split('/')[-1], idx[0],\n",
    "                      model, scen, ds5.time.values[ idx[0][0] ] \n",
    "                     )\n",
    "            elif len(idx[0])>1:\n",
    "                for l in len(idx[0]):\n",
    "                    print( \n",
    "                          model, scen, ds5.time.values[ idx[0][l] ] \n",
    "                         )\n",
    "            "
   ]
  },
  {
   "cell_type": "markdown",
   "id": "ee15d1ad-05ef-4205-90c4-25d5402fafbb",
   "metadata": {
    "jp-MarkdownHeadingCollapsed": true
   },
   "source": [
    "### Serial"
   ]
  },
  {
   "cell_type": "code",
   "execution_count": null,
   "id": "94c660a7-a6ec-4f14-adea-cafb4006f823",
   "metadata": {},
   "outputs": [],
   "source": [
    "models = [\"CanESM5\", \"CMCC-CM2-SR5\", \"MIROC-ES2L\", \"MPI-M.MPI-ESM1-2-LR\", \"NorESM2-MM\"] \n",
    "scenarios = [\"ssp245_2004\", \"ssp245_2049\", \"ssp370_2004\", \"ssp370_2049\", \"ssp585_2004\", \"ssp585_2049\"]\n",
    "\n",
    "for model in models:\n",
    "    for scen in scenarios:\n",
    "        print(f\"checking {model} {scen}:\")\n",
    "        check_mod_scen( model, scen )"
   ]
  },
  {
   "cell_type": "markdown",
   "id": "4954c13a-b84c-4601-b09f-e14ed670a730",
   "metadata": {},
   "source": [
    "### Parallel"
   ]
  },
  {
   "cell_type": "code",
   "execution_count": 19,
   "id": "2ab26566-2236-4fd9-b5b0-091770c691e9",
   "metadata": {},
   "outputs": [],
   "source": [
    "models = [\"CanESM5\", \"CMCC-CM2-SR5\", \"MIROC-ES2L\", \"MPI-M.MPI-ESM1-2-LR\", \"NorESM2-MM\"] \n",
    "# scenarios = [\"ssp245_2004\", \"ssp245_2049\", \"ssp370_2004\", \"ssp370_2049\", \"ssp585_2004\", \"ssp585_2049\"]\n",
    "scenarios = [\"ssp245\", \"ssp370\", \"ssp585\"]\n",
    "\n",
    "\n",
    "with multiprocessing.Pool(processes=len(models)*len(scenarios)) as pool:\n",
    "    results = pool.starmap(check_mod_scen, list(itertools.product(models, scenarios)))\n"
   ]
  },
  {
   "cell_type": "code",
   "execution_count": null,
   "id": "209770b3-dfc4-4b8b-91f0-f9ed088c94c6",
   "metadata": {},
   "outputs": [],
   "source": [
    "models = [\"CanESM5\", \"CMCC-CM2-SR5\", \"MIROC-ES2L\", \"MPI-M.MPI-ESM1-2-LR\", \"NorESM2-MM\"] \n",
    "# scenarios = [\"ssp245_2004\", \"ssp245_2049\", \"ssp370_2004\", \"ssp370_2049\", \"ssp585_2004\", \"ssp585_2049\"]\n",
    "scenarios = [\"ssp245\", \"ssp370\", \"ssp585\"]\n",
    "\n",
    "\n",
    "with multiprocessing.Pool(processes=len(models)*len(scenarios)) as pool:\n",
    "    results = pool.starmap(check_Tmin_max, list(itertools.product(models, scenarios)))"
   ]
  },
  {
   "cell_type": "code",
   "execution_count": 50,
   "id": "1334d271-746d-4393-b03d-4cdcd0f8e6ef",
   "metadata": {},
   "outputs": [
    {
     "name": "stdout",
     "output_type": "stream",
     "text": [
      "0\n",
      "0\n"
     ]
    }
   ],
   "source": [
    "check_Tmin_max( model, scen)"
   ]
  },
  {
   "cell_type": "code",
   "execution_count": 30,
   "id": "817517ef-9d5d-481a-b26b-6b0145452490",
   "metadata": {},
   "outputs": [
    {
     "data": {
      "text/plain": [
       "0"
      ]
     },
     "execution_count": 30,
     "metadata": {},
     "output_type": "execute_result"
    }
   ],
   "source": [
    "ds5 = xr.open_mfdataset( files[0] )\n"
   ]
  },
  {
   "cell_type": "code",
   "execution_count": 32,
   "id": "1981ca19-a953-4b1e-8889-e1ac8146f336",
   "metadata": {},
   "outputs": [],
   "source": [
    "cnt = np.where( ds5.Tmin.values > ds5.Tmax.values ) "
   ]
  },
  {
   "cell_type": "code",
   "execution_count": 35,
   "id": "afeec900-45e9-4067-998a-963c3651a459",
   "metadata": {},
   "outputs": [
    {
     "data": {
      "text/plain": [
       "(2, 0)"
      ]
     },
     "execution_count": 35,
     "metadata": {},
     "output_type": "execute_result"
    }
   ],
   "source": [
    "len(cnt), len(cnt[0])"
   ]
  },
  {
   "cell_type": "code",
   "execution_count": 37,
   "id": "c74bf51d-6b26-44d1-a55f-2fc20bf06083",
   "metadata": {},
   "outputs": [
    {
     "data": {
      "text/plain": [
       "(array([], dtype=int64), array([], dtype=int64))"
      ]
     },
     "execution_count": 37,
     "metadata": {},
     "output_type": "execute_result"
    }
   ],
   "source": [
    "cnt\n",
    "\n"
   ]
  },
  {
   "cell_type": "code",
   "execution_count": null,
   "id": "ae867d94-0049-4e58-9449-f5a91376f20a",
   "metadata": {},
   "outputs": [],
   "source": []
  }
 ],
 "metadata": {
  "kernelspec": {
   "display_name": "Python [conda env:py311]",
   "language": "python",
   "name": "conda-env-py311-py"
  },
  "language_info": {
   "codemirror_mode": {
    "name": "ipython",
    "version": 3
   },
   "file_extension": ".py",
   "mimetype": "text/x-python",
   "name": "python",
   "nbconvert_exporter": "python",
   "pygments_lexer": "ipython3",
   "version": "3.11.6"
  }
 },
 "nbformat": 4,
 "nbformat_minor": 5
}
